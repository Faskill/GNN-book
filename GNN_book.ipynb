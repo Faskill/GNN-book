{
  "nbformat": 4,
  "nbformat_minor": 0,
  "metadata": {
    "colab": {
      "provenance": [],
      "include_colab_link": true
    },
    "kernelspec": {
      "name": "python3",
      "display_name": "Python 3"
    },
    "language_info": {
      "name": "python"
    }
  },
  "cells": [
    {
      "cell_type": "markdown",
      "metadata": {
        "id": "view-in-github",
        "colab_type": "text"
      },
      "source": [
        "<a href=\"https://colab.research.google.com/github/Faskill/GNN-book/blob/main/GNN_book.ipynb\" target=\"_parent\"><img src=\"https://colab.research.google.com/assets/colab-badge.svg\" alt=\"Open In Colab\"/></a>"
      ]
    },
    {
      "cell_type": "code",
      "source": [
        "!wget 'https://raw.githubusercontent.com/keitabroadwater/gnns_in_action/master/chapter_2/relationships_hashed.json'\n",
        "!ls"
      ],
      "metadata": {
        "colab": {
          "base_uri": "https://localhost:8080/"
        },
        "id": "I4byxrlzFyD4",
        "outputId": "7cc1653f-0147-45db-f514-82a6a043abb3"
      },
      "execution_count": null,
      "outputs": [
        {
          "output_type": "stream",
          "name": "stdout",
          "text": [
            "--2023-03-25 16:12:44--  https://raw.githubusercontent.com/keitabroadwater/gnns_in_action/master/chapter_2/relationships_hashed.json\n",
            "Resolving raw.githubusercontent.com (raw.githubusercontent.com)... 185.199.108.133, 185.199.109.133, 185.199.110.133, ...\n",
            "Connecting to raw.githubusercontent.com (raw.githubusercontent.com)|185.199.108.133|:443... connected.\n",
            "HTTP request sent, awaiting response... 200 OK\n",
            "Length: 963530 (941K) [text/plain]\n",
            "Saving to: ‘relationships_hashed.json’\n",
            "\n",
            "\r          relations   0%[                    ]       0  --.-KB/s               \rrelationships_hashe 100%[===================>] 940.95K  --.-KB/s    in 0.03s   \n",
            "\n",
            "2023-03-25 16:12:44 (28.4 MB/s) - ‘relationships_hashed.json’ saved [963530/963530]\n",
            "\n",
            "relationships_hashed.json  sample_data\n"
          ]
        }
      ]
    },
    {
      "cell_type": "code",
      "source": [
        "import json\n",
        "with open('relationships_hashed.json', 'rb') as file:\n",
        "    json_data = json.load(file)"
      ],
      "metadata": {
        "id": "fLBwedoJXJ1H"
      },
      "execution_count": 137,
      "outputs": []
    },
    {
      "cell_type": "code",
      "source": [
        "print(len(list(json_data.keys())))\n",
        "json_data[list(json_data.keys())[0]]"
      ],
      "metadata": {
        "colab": {
          "base_uri": "https://localhost:8080/"
        },
        "id": "ooOu-beRLDRV",
        "outputId": "f98a5d96-c739-4648-eae8-8f7d85b42c07"
      },
      "execution_count": null,
      "outputs": [
        {
          "output_type": "stream",
          "name": "stdout",
          "text": [
            "1855\n"
          ]
        },
        {
          "output_type": "execute_result",
          "data": {
            "text/plain": [
              "['20e53a53a9875ce3c1beeac367c52699f69772ef']"
            ]
          },
          "metadata": {},
          "execution_count": 34
        }
      ]
    },
    {
      "cell_type": "code",
      "source": [
        "import timeit\n",
        "#Creating adjacency list from json file\n",
        "#This function has been modified from the book's function to improve efficiency\n",
        "def create_adjacency_list(data_dict, suffix=''):\n",
        "    node_list = set()\n",
        "    for source_node in list(data_dict.keys()):\n",
        "        node_list.add(source_node)\n",
        "    for x in data_dict[source_node]:\n",
        "        node_list.add(x)\n",
        "        if x not in data_dict.keys():\n",
        "            data_dict[x] = [source_node]\n",
        "        else:\n",
        "            if source_node not in data_dict[x]:\n",
        "                data_dict[x].append(source_node)\n",
        "    g= open(\"adjacency_list_{}.txt\".format(suffix),\"w+\")\n",
        "    for source_node in list(data_dict.keys()):\n",
        "        dt = ' '.join(data_dict[source_node])\n",
        "        g.write(\"{} {} \\n\".format(source_node, dt))\n",
        "    g.close\n",
        "    return node_list"
      ],
      "metadata": {
        "id": "gHzN9M75EmpZ"
      },
      "execution_count": null,
      "outputs": []
    },
    {
      "cell_type": "code",
      "source": [
        "#Timing our improved function\n",
        "%%timeit -r 4\n",
        "create_adjacency_list(json_data)\n",
        "None"
      ],
      "metadata": {
        "colab": {
          "base_uri": "https://localhost:8080/"
        },
        "id": "8Kzv5_YmN6ri",
        "outputId": "85fe02d5-445c-4a55-eeed-b570936a8617"
      },
      "execution_count": null,
      "outputs": [
        {
          "output_type": "stream",
          "name": "stdout",
          "text": [
            "9.14 ms ± 1.3 ms per loop (mean ± std. dev. of 4 runs, 100 loops each)\n"
          ]
        }
      ]
    },
    {
      "cell_type": "code",
      "source": [
        "#Source function from book\n",
        "def create_adjacency_list2(data_dict, suffix=''):\n",
        "\n",
        "    list_of_nodes = []\n",
        "    for source_node in list(data_dict.keys()): #A\n",
        "        if source_node not in list_of_nodes:\n",
        "            list_of_nodes.append(source_node)\n",
        "        for y in data_dict[source_node]: #B\n",
        "            if y not in list_of_nodes: #B\n",
        "                list_of_nodes.append(y) #B\n",
        "            if y not in data_dict.keys(): #B\n",
        "                data_dict[y]=[source_node] #B\n",
        "            else: #B\n",
        "                if source_node not in data_dict[y]: #B\n",
        "                    data_dict[y].append(source_node) #B\n",
        "                else: continue #B\n",
        "    g= open(\"adjacency_list_{}.txt\".format(suffix),\"w+\") #C\n",
        "    for source_node in list(data_dict.keys()): #D\n",
        "        dt = ' '.join(data_dict[source_node]) #E\n",
        "        g.write(\"{} {} \\n\".format(source_node, dt)) #G\n",
        "    g.close\n",
        "    return list_of_nodes"
      ],
      "metadata": {
        "id": "O2iwrSD4OtAg"
      },
      "execution_count": null,
      "outputs": []
    },
    {
      "cell_type": "code",
      "source": [
        "%%timeit -r 4\n",
        "create_adjacency_list2(json_data)\n",
        "None"
      ],
      "metadata": {
        "colab": {
          "base_uri": "https://localhost:8080/"
        },
        "id": "ON3nz2zOPVa1",
        "outputId": "52bc4753-e203-463c-db78-5ee544c1ebb3"
      },
      "execution_count": null,
      "outputs": [
        {
          "output_type": "stream",
          "name": "stdout",
          "text": [
            "339 ms ± 14.2 ms per loop (mean ± std. dev. of 4 runs, 1 loop each)\n"
          ]
        }
      ]
    },
    {
      "cell_type": "markdown",
      "source": [
        "The modified version is 38x faster"
      ],
      "metadata": {
        "id": "ZoBXmlHAQmPl"
      }
    },
    {
      "cell_type": "code",
      "source": [
        "#Optimized function\n",
        "def create_edge_list(data_dict, suffix=''):\n",
        "    edge_list_file = open(\"edge_list_{}.txt\".format(suffix),\"w+\")\n",
        "    list_of_edges = set()\n",
        "    list_of_nodes = set()\n",
        "\n",
        "    for source_node in list(data_dict.keys()):\n",
        "        list_of_nodes.add(source_node)\n",
        "        connections = data_dict[source_node]\n",
        "\n",
        "        for destination_node in connections:\n",
        "            list_of_nodes.add(destination_node)\n",
        "            _tmp = len(list_of_edges)\n",
        "            list_of_edges.add((source_node, destination_node))\n",
        "            if len(list_of_edges) != _tmp:\n",
        "                edge_list_file.write(\"{} {}\".format(source_node, destination_node))\n",
        "        edge_list_file.close\n",
        "    return list_of_edges, list_of_nodes"
      ],
      "metadata": {
        "id": "nMscUZObQvNY"
      },
      "execution_count": null,
      "outputs": []
    },
    {
      "cell_type": "code",
      "source": [
        "#Optimized function (slight variation)\n",
        "def create_edge_list2(data_dict, suffix=''):\n",
        "    edge_list_file = open(\"edge_list_{}.txt\".format(suffix),\"w+\")\n",
        "    list_of_edges = set()\n",
        "    list_of_nodes = set()\n",
        "\n",
        "    for source_node in list(data_dict.keys()):\n",
        "        list_of_nodes.add(source_node)\n",
        "        connections = data_dict[source_node]\n",
        "\n",
        "        for destination_node in connections:\n",
        "            list_of_nodes.add(destination_node)\n",
        "            if (source_node, destination_node) not in list_of_edges:\n",
        "                edge_list_file.write(\"{} {} \\n\".format(source_node, destination_node))\n",
        "                list_of_edges.add((source_node, destination_node))\n",
        "    edge_list_file.close\n",
        "    return list_of_edges, list_of_nodes"
      ],
      "metadata": {
        "id": "QB6yI_Comrg8"
      },
      "execution_count": null,
      "outputs": []
    },
    {
      "cell_type": "code",
      "source": [
        "#Function from the book\n",
        "def create_edge_list3(data_dict, suffix=''):\n",
        "    edge_list_file = open(\"edge_list_{}.txt\".format(suffix),\"w+\")\n",
        "    list_of_edges = []\n",
        "    list_of_nodes_all = []\n",
        "    for source_node in list(data_dict.keys()):\n",
        "        if source_node not in list_of_nodes_all:\n",
        "            list_of_nodes_all.append(source_node)\n",
        "            list_of_connects = data_dict[source_node]\n",
        "        for destination_node in list_of_connects: #A\n",
        "            if destination_node not in list_of_nodes_all:\n",
        "                list_of_nodes_all.append(destination_node)\n",
        "            if {source_node, destination_node} not in list_of_edges:\n",
        "                edge_list_file.write(\"{} {} \\n\".format(source_node, destination_node)) #C\n",
        "                list_of_edges.append({source_node, destination_node})\n",
        "            else: continue\n",
        "    edge_list_file.close\n",
        "    return list_of_edges, list_of_nodes_all"
      ],
      "metadata": {
        "id": "xXcZzUlcmKh2"
      },
      "execution_count": null,
      "outputs": []
    },
    {
      "cell_type": "code",
      "source": [
        "%%timeit -r 4 -n 1000\n",
        "create_edge_list(json_data)\n",
        "None"
      ],
      "metadata": {
        "colab": {
          "base_uri": "https://localhost:8080/"
        },
        "id": "xqvASuRim4ZD",
        "outputId": "fac6bec1-89ad-4612-e32b-18b880c69566"
      },
      "execution_count": null,
      "outputs": [
        {
          "output_type": "stream",
          "name": "stdout",
          "text": [
            "42.6 ms ± 307 µs per loop (mean ± std. dev. of 4 runs, 1000 loops each)\n"
          ]
        }
      ]
    },
    {
      "cell_type": "code",
      "source": [
        "%%timeit -r 4 -n 1000\n",
        "create_edge_list2(json_data)\n",
        "None"
      ],
      "metadata": {
        "colab": {
          "base_uri": "https://localhost:8080/"
        },
        "id": "zFokJXwQndR6",
        "outputId": "34c2df39-3eb3-43d2-f0fc-cca6ff388088"
      },
      "execution_count": null,
      "outputs": [
        {
          "output_type": "stream",
          "name": "stdout",
          "text": [
            "41 ms ± 320 µs per loop (mean ± std. dev. of 4 runs, 1000 loops each)\n"
          ]
        }
      ]
    },
    {
      "cell_type": "code",
      "source": [
        "%%timeit -r 4\n",
        "create_edge_list3(json_data)\n",
        "None"
      ],
      "metadata": {
        "colab": {
          "base_uri": "https://localhost:8080/"
        },
        "id": "3m69ZD7jnAv6",
        "outputId": "baa175c4-065c-4eeb-e22e-28815ae12261"
      },
      "execution_count": null,
      "outputs": [
        {
          "output_type": "stream",
          "name": "stdout",
          "text": [
            "1.79 s ± 441 ms per loop (mean ± std. dev. of 4 runs, 1 loop each)\n"
          ]
        }
      ]
    },
    {
      "cell_type": "markdown",
      "source": [
        "Our second optimized function speeds up calculation by 41x.\n",
        "\n",
        "## Data Loading "
      ],
      "metadata": {
        "id": "dzUZaoL9nwzZ"
      }
    },
    {
      "cell_type": "code",
      "source": [
        "!pip install networkx"
      ],
      "metadata": {
        "colab": {
          "base_uri": "https://localhost:8080/"
        },
        "id": "jRHMnPUMniVq",
        "outputId": "ffc72cd7-6c2e-4715-993d-ca84f758c9aa"
      },
      "execution_count": null,
      "outputs": [
        {
          "output_type": "stream",
          "name": "stdout",
          "text": [
            "Looking in indexes: https://pypi.org/simple, https://us-python.pkg.dev/colab-wheels/public/simple/\n",
            "Requirement already satisfied: networkx in /usr/local/lib/python3.9/dist-packages (3.0)\n"
          ]
        }
      ]
    },
    {
      "cell_type": "code",
      "source": [
        "import networkx as nx\n",
        "import pandas as pd\n",
        "import numpy as np\n",
        "\n",
        "with open('relationships_hashed.json', 'rb') as file:\n",
        "    json_data = json.load(file)"
      ],
      "metadata": {
        "id": "ijuUXCcCrLnU"
      },
      "execution_count": 138,
      "outputs": []
    },
    {
      "cell_type": "code",
      "source": [
        "!wget 'https://raw.githubusercontent.com/keitabroadwater/gnns_in_action/master/chapter_2/node_attributes_hashed.csv'"
      ],
      "metadata": {
        "colab": {
          "base_uri": "https://localhost:8080/"
        },
        "id": "ABVCXIbXrpkS",
        "outputId": "20131c81-0bb2-4b0f-ea19-51153614aa0e"
      },
      "execution_count": null,
      "outputs": [
        {
          "output_type": "stream",
          "name": "stdout",
          "text": [
            "--2023-03-25 16:13:00--  https://raw.githubusercontent.com/keitabroadwater/gnns_in_action/master/chapter_2/node_attributes_hashed.csv\n",
            "Resolving raw.githubusercontent.com (raw.githubusercontent.com)... 185.199.110.133, 185.199.109.133, 185.199.108.133, ...\n",
            "Connecting to raw.githubusercontent.com (raw.githubusercontent.com)|185.199.110.133|:443... connected.\n",
            "HTTP request sent, awaiting response... 200 OK\n",
            "Length: 155173 (152K) [text/plain]\n",
            "Saving to: ‘node_attributes_hashed.csv’\n",
            "\n",
            "\r          node_attr   0%[                    ]       0  --.-KB/s               \rnode_attributes_has 100%[===================>] 151.54K  --.-KB/s    in 0.02s   \n",
            "\n",
            "2023-03-25 16:13:00 (8.64 MB/s) - ‘node_attributes_hashed.csv’ saved [155173/155173]\n",
            "\n"
          ]
        }
      ]
    },
    {
      "cell_type": "code",
      "source": [
        "node_attr = pd.read_csv('node_attributes_hashed.csv')\n",
        "node_attr"
      ],
      "metadata": {
        "colab": {
          "base_uri": "https://localhost:8080/",
          "height": 505
        },
        "id": "Ds9A_qMnwD-M",
        "outputId": "508f3753-ae37-47ff-ca17-a5854094ac55"
      },
      "execution_count": null,
      "outputs": [
        {
          "output_type": "execute_result",
          "data": {
            "text/plain": [
              "                position_type   company_type  \\\n",
              "0                    engineer           tech   \n",
              "1     executive_or_management        finance   \n",
              "2             marketing_sales        Unknown   \n",
              "3             marketing_sales        Unknown   \n",
              "4                        misc           misc   \n",
              "...                       ...            ...   \n",
              "1942                     misc           misc   \n",
              "1943  executive_or_management  nonprofit_ngo   \n",
              "1944                education      education   \n",
              "1945                     misc           tech   \n",
              "1946                 engineer           tech   \n",
              "\n",
              "                                      hashedid  Unnamed: 3  Unnamed: 4  \\\n",
              "0     058b92d6c47c4f8e29b302b30a1fff4a21ba9d36         NaN         NaN   \n",
              "1     e943ba6d3c0eb8589df32a873ab5772c8f77c68f         NaN         NaN   \n",
              "2     07722a6692fb28485ddaf84979322fb5a78d0926         NaN         NaN   \n",
              "3     eb319e0714095bc9f9517317e9040f125b8de8d4         NaN         NaN   \n",
              "4     acddbb2edb475d3a5fd127075dc146eb9ba94e0e         NaN         NaN   \n",
              "...                                        ...         ...         ...   \n",
              "1942  d2d878318aaa8825d9e0e43b162ae0b33a9a90ca         NaN         NaN   \n",
              "1943  3e0a9701ee6796753d601a8d9ba551fec1e9b8d3         NaN         NaN   \n",
              "1944  dbfb54497fe275982736b278a69ac0d6554469d0         NaN         NaN   \n",
              "1945  ef0a4531dbc7fd4b16765ea67bbbac66c496f392         NaN         NaN   \n",
              "1946  4e32a64bff2dc06f797ff6492ec5844bf18bbfb9         NaN         NaN   \n",
              "\n",
              "      Unnamed: 5  Unnamed: 6  Unnamed: 7  Unnamed: 8  Unnamed: 9  Unnamed: 10  \\\n",
              "0            NaN         NaN         NaN         NaN         NaN          NaN   \n",
              "1            NaN         NaN         NaN         NaN         NaN          NaN   \n",
              "2            NaN         NaN         NaN         NaN         NaN          NaN   \n",
              "3            NaN         NaN         NaN         NaN         NaN          NaN   \n",
              "4            NaN         NaN         NaN         NaN         NaN          NaN   \n",
              "...          ...         ...         ...         ...         ...          ...   \n",
              "1942         NaN         NaN         NaN         NaN         NaN          NaN   \n",
              "1943         NaN         NaN         NaN         NaN         NaN          NaN   \n",
              "1944         NaN         NaN         NaN         NaN         NaN          NaN   \n",
              "1945         NaN         NaN         NaN         NaN         NaN          NaN   \n",
              "1946         NaN         NaN         NaN         NaN         NaN          NaN   \n",
              "\n",
              "      Unnamed: 11  Unnamed: 12  Unnamed: 13  Unnamed: 14  Unnamed: 15  \n",
              "0             NaN          NaN          NaN          NaN          NaN  \n",
              "1             NaN          NaN          NaN          NaN          NaN  \n",
              "2             NaN          NaN          NaN          NaN          NaN  \n",
              "3             NaN          NaN          NaN          NaN          NaN  \n",
              "4             NaN          NaN          NaN          NaN          NaN  \n",
              "...           ...          ...          ...          ...          ...  \n",
              "1942          NaN          NaN          NaN          NaN          NaN  \n",
              "1943          NaN          NaN          NaN          NaN          NaN  \n",
              "1944          NaN          NaN          NaN          NaN          NaN  \n",
              "1945          NaN          NaN          NaN          NaN          NaN  \n",
              "1946          NaN          NaN          NaN          NaN          NaN  \n",
              "\n",
              "[1947 rows x 16 columns]"
            ],
            "text/html": [
              "\n",
              "  <div id=\"df-899cd074-8eaf-4cc0-95b3-4071869745c7\">\n",
              "    <div class=\"colab-df-container\">\n",
              "      <div>\n",
              "<style scoped>\n",
              "    .dataframe tbody tr th:only-of-type {\n",
              "        vertical-align: middle;\n",
              "    }\n",
              "\n",
              "    .dataframe tbody tr th {\n",
              "        vertical-align: top;\n",
              "    }\n",
              "\n",
              "    .dataframe thead th {\n",
              "        text-align: right;\n",
              "    }\n",
              "</style>\n",
              "<table border=\"1\" class=\"dataframe\">\n",
              "  <thead>\n",
              "    <tr style=\"text-align: right;\">\n",
              "      <th></th>\n",
              "      <th>position_type</th>\n",
              "      <th>company_type</th>\n",
              "      <th>hashedid</th>\n",
              "      <th>Unnamed: 3</th>\n",
              "      <th>Unnamed: 4</th>\n",
              "      <th>Unnamed: 5</th>\n",
              "      <th>Unnamed: 6</th>\n",
              "      <th>Unnamed: 7</th>\n",
              "      <th>Unnamed: 8</th>\n",
              "      <th>Unnamed: 9</th>\n",
              "      <th>Unnamed: 10</th>\n",
              "      <th>Unnamed: 11</th>\n",
              "      <th>Unnamed: 12</th>\n",
              "      <th>Unnamed: 13</th>\n",
              "      <th>Unnamed: 14</th>\n",
              "      <th>Unnamed: 15</th>\n",
              "    </tr>\n",
              "  </thead>\n",
              "  <tbody>\n",
              "    <tr>\n",
              "      <th>0</th>\n",
              "      <td>engineer</td>\n",
              "      <td>tech</td>\n",
              "      <td>058b92d6c47c4f8e29b302b30a1fff4a21ba9d36</td>\n",
              "      <td>NaN</td>\n",
              "      <td>NaN</td>\n",
              "      <td>NaN</td>\n",
              "      <td>NaN</td>\n",
              "      <td>NaN</td>\n",
              "      <td>NaN</td>\n",
              "      <td>NaN</td>\n",
              "      <td>NaN</td>\n",
              "      <td>NaN</td>\n",
              "      <td>NaN</td>\n",
              "      <td>NaN</td>\n",
              "      <td>NaN</td>\n",
              "      <td>NaN</td>\n",
              "    </tr>\n",
              "    <tr>\n",
              "      <th>1</th>\n",
              "      <td>executive_or_management</td>\n",
              "      <td>finance</td>\n",
              "      <td>e943ba6d3c0eb8589df32a873ab5772c8f77c68f</td>\n",
              "      <td>NaN</td>\n",
              "      <td>NaN</td>\n",
              "      <td>NaN</td>\n",
              "      <td>NaN</td>\n",
              "      <td>NaN</td>\n",
              "      <td>NaN</td>\n",
              "      <td>NaN</td>\n",
              "      <td>NaN</td>\n",
              "      <td>NaN</td>\n",
              "      <td>NaN</td>\n",
              "      <td>NaN</td>\n",
              "      <td>NaN</td>\n",
              "      <td>NaN</td>\n",
              "    </tr>\n",
              "    <tr>\n",
              "      <th>2</th>\n",
              "      <td>marketing_sales</td>\n",
              "      <td>Unknown</td>\n",
              "      <td>07722a6692fb28485ddaf84979322fb5a78d0926</td>\n",
              "      <td>NaN</td>\n",
              "      <td>NaN</td>\n",
              "      <td>NaN</td>\n",
              "      <td>NaN</td>\n",
              "      <td>NaN</td>\n",
              "      <td>NaN</td>\n",
              "      <td>NaN</td>\n",
              "      <td>NaN</td>\n",
              "      <td>NaN</td>\n",
              "      <td>NaN</td>\n",
              "      <td>NaN</td>\n",
              "      <td>NaN</td>\n",
              "      <td>NaN</td>\n",
              "    </tr>\n",
              "    <tr>\n",
              "      <th>3</th>\n",
              "      <td>marketing_sales</td>\n",
              "      <td>Unknown</td>\n",
              "      <td>eb319e0714095bc9f9517317e9040f125b8de8d4</td>\n",
              "      <td>NaN</td>\n",
              "      <td>NaN</td>\n",
              "      <td>NaN</td>\n",
              "      <td>NaN</td>\n",
              "      <td>NaN</td>\n",
              "      <td>NaN</td>\n",
              "      <td>NaN</td>\n",
              "      <td>NaN</td>\n",
              "      <td>NaN</td>\n",
              "      <td>NaN</td>\n",
              "      <td>NaN</td>\n",
              "      <td>NaN</td>\n",
              "      <td>NaN</td>\n",
              "    </tr>\n",
              "    <tr>\n",
              "      <th>4</th>\n",
              "      <td>misc</td>\n",
              "      <td>misc</td>\n",
              "      <td>acddbb2edb475d3a5fd127075dc146eb9ba94e0e</td>\n",
              "      <td>NaN</td>\n",
              "      <td>NaN</td>\n",
              "      <td>NaN</td>\n",
              "      <td>NaN</td>\n",
              "      <td>NaN</td>\n",
              "      <td>NaN</td>\n",
              "      <td>NaN</td>\n",
              "      <td>NaN</td>\n",
              "      <td>NaN</td>\n",
              "      <td>NaN</td>\n",
              "      <td>NaN</td>\n",
              "      <td>NaN</td>\n",
              "      <td>NaN</td>\n",
              "    </tr>\n",
              "    <tr>\n",
              "      <th>...</th>\n",
              "      <td>...</td>\n",
              "      <td>...</td>\n",
              "      <td>...</td>\n",
              "      <td>...</td>\n",
              "      <td>...</td>\n",
              "      <td>...</td>\n",
              "      <td>...</td>\n",
              "      <td>...</td>\n",
              "      <td>...</td>\n",
              "      <td>...</td>\n",
              "      <td>...</td>\n",
              "      <td>...</td>\n",
              "      <td>...</td>\n",
              "      <td>...</td>\n",
              "      <td>...</td>\n",
              "      <td>...</td>\n",
              "    </tr>\n",
              "    <tr>\n",
              "      <th>1942</th>\n",
              "      <td>misc</td>\n",
              "      <td>misc</td>\n",
              "      <td>d2d878318aaa8825d9e0e43b162ae0b33a9a90ca</td>\n",
              "      <td>NaN</td>\n",
              "      <td>NaN</td>\n",
              "      <td>NaN</td>\n",
              "      <td>NaN</td>\n",
              "      <td>NaN</td>\n",
              "      <td>NaN</td>\n",
              "      <td>NaN</td>\n",
              "      <td>NaN</td>\n",
              "      <td>NaN</td>\n",
              "      <td>NaN</td>\n",
              "      <td>NaN</td>\n",
              "      <td>NaN</td>\n",
              "      <td>NaN</td>\n",
              "    </tr>\n",
              "    <tr>\n",
              "      <th>1943</th>\n",
              "      <td>executive_or_management</td>\n",
              "      <td>nonprofit_ngo</td>\n",
              "      <td>3e0a9701ee6796753d601a8d9ba551fec1e9b8d3</td>\n",
              "      <td>NaN</td>\n",
              "      <td>NaN</td>\n",
              "      <td>NaN</td>\n",
              "      <td>NaN</td>\n",
              "      <td>NaN</td>\n",
              "      <td>NaN</td>\n",
              "      <td>NaN</td>\n",
              "      <td>NaN</td>\n",
              "      <td>NaN</td>\n",
              "      <td>NaN</td>\n",
              "      <td>NaN</td>\n",
              "      <td>NaN</td>\n",
              "      <td>NaN</td>\n",
              "    </tr>\n",
              "    <tr>\n",
              "      <th>1944</th>\n",
              "      <td>education</td>\n",
              "      <td>education</td>\n",
              "      <td>dbfb54497fe275982736b278a69ac0d6554469d0</td>\n",
              "      <td>NaN</td>\n",
              "      <td>NaN</td>\n",
              "      <td>NaN</td>\n",
              "      <td>NaN</td>\n",
              "      <td>NaN</td>\n",
              "      <td>NaN</td>\n",
              "      <td>NaN</td>\n",
              "      <td>NaN</td>\n",
              "      <td>NaN</td>\n",
              "      <td>NaN</td>\n",
              "      <td>NaN</td>\n",
              "      <td>NaN</td>\n",
              "      <td>NaN</td>\n",
              "    </tr>\n",
              "    <tr>\n",
              "      <th>1945</th>\n",
              "      <td>misc</td>\n",
              "      <td>tech</td>\n",
              "      <td>ef0a4531dbc7fd4b16765ea67bbbac66c496f392</td>\n",
              "      <td>NaN</td>\n",
              "      <td>NaN</td>\n",
              "      <td>NaN</td>\n",
              "      <td>NaN</td>\n",
              "      <td>NaN</td>\n",
              "      <td>NaN</td>\n",
              "      <td>NaN</td>\n",
              "      <td>NaN</td>\n",
              "      <td>NaN</td>\n",
              "      <td>NaN</td>\n",
              "      <td>NaN</td>\n",
              "      <td>NaN</td>\n",
              "      <td>NaN</td>\n",
              "    </tr>\n",
              "    <tr>\n",
              "      <th>1946</th>\n",
              "      <td>engineer</td>\n",
              "      <td>tech</td>\n",
              "      <td>4e32a64bff2dc06f797ff6492ec5844bf18bbfb9</td>\n",
              "      <td>NaN</td>\n",
              "      <td>NaN</td>\n",
              "      <td>NaN</td>\n",
              "      <td>NaN</td>\n",
              "      <td>NaN</td>\n",
              "      <td>NaN</td>\n",
              "      <td>NaN</td>\n",
              "      <td>NaN</td>\n",
              "      <td>NaN</td>\n",
              "      <td>NaN</td>\n",
              "      <td>NaN</td>\n",
              "      <td>NaN</td>\n",
              "      <td>NaN</td>\n",
              "    </tr>\n",
              "  </tbody>\n",
              "</table>\n",
              "<p>1947 rows × 16 columns</p>\n",
              "</div>\n",
              "      <button class=\"colab-df-convert\" onclick=\"convertToInteractive('df-899cd074-8eaf-4cc0-95b3-4071869745c7')\"\n",
              "              title=\"Convert this dataframe to an interactive table.\"\n",
              "              style=\"display:none;\">\n",
              "        \n",
              "  <svg xmlns=\"http://www.w3.org/2000/svg\" height=\"24px\"viewBox=\"0 0 24 24\"\n",
              "       width=\"24px\">\n",
              "    <path d=\"M0 0h24v24H0V0z\" fill=\"none\"/>\n",
              "    <path d=\"M18.56 5.44l.94 2.06.94-2.06 2.06-.94-2.06-.94-.94-2.06-.94 2.06-2.06.94zm-11 1L8.5 8.5l.94-2.06 2.06-.94-2.06-.94L8.5 2.5l-.94 2.06-2.06.94zm10 10l.94 2.06.94-2.06 2.06-.94-2.06-.94-.94-2.06-.94 2.06-2.06.94z\"/><path d=\"M17.41 7.96l-1.37-1.37c-.4-.4-.92-.59-1.43-.59-.52 0-1.04.2-1.43.59L10.3 9.45l-7.72 7.72c-.78.78-.78 2.05 0 2.83L4 21.41c.39.39.9.59 1.41.59.51 0 1.02-.2 1.41-.59l7.78-7.78 2.81-2.81c.8-.78.8-2.07 0-2.86zM5.41 20L4 18.59l7.72-7.72 1.47 1.35L5.41 20z\"/>\n",
              "  </svg>\n",
              "      </button>\n",
              "      \n",
              "  <style>\n",
              "    .colab-df-container {\n",
              "      display:flex;\n",
              "      flex-wrap:wrap;\n",
              "      gap: 12px;\n",
              "    }\n",
              "\n",
              "    .colab-df-convert {\n",
              "      background-color: #E8F0FE;\n",
              "      border: none;\n",
              "      border-radius: 50%;\n",
              "      cursor: pointer;\n",
              "      display: none;\n",
              "      fill: #1967D2;\n",
              "      height: 32px;\n",
              "      padding: 0 0 0 0;\n",
              "      width: 32px;\n",
              "    }\n",
              "\n",
              "    .colab-df-convert:hover {\n",
              "      background-color: #E2EBFA;\n",
              "      box-shadow: 0px 1px 2px rgba(60, 64, 67, 0.3), 0px 1px 3px 1px rgba(60, 64, 67, 0.15);\n",
              "      fill: #174EA6;\n",
              "    }\n",
              "\n",
              "    [theme=dark] .colab-df-convert {\n",
              "      background-color: #3B4455;\n",
              "      fill: #D2E3FC;\n",
              "    }\n",
              "\n",
              "    [theme=dark] .colab-df-convert:hover {\n",
              "      background-color: #434B5C;\n",
              "      box-shadow: 0px 1px 3px 1px rgba(0, 0, 0, 0.15);\n",
              "      filter: drop-shadow(0px 1px 2px rgba(0, 0, 0, 0.3));\n",
              "      fill: #FFFFFF;\n",
              "    }\n",
              "  </style>\n",
              "\n",
              "      <script>\n",
              "        const buttonEl =\n",
              "          document.querySelector('#df-899cd074-8eaf-4cc0-95b3-4071869745c7 button.colab-df-convert');\n",
              "        buttonEl.style.display =\n",
              "          google.colab.kernel.accessAllowed ? 'block' : 'none';\n",
              "\n",
              "        async function convertToInteractive(key) {\n",
              "          const element = document.querySelector('#df-899cd074-8eaf-4cc0-95b3-4071869745c7');\n",
              "          const dataTable =\n",
              "            await google.colab.kernel.invokeFunction('convertToInteractive',\n",
              "                                                     [key], {});\n",
              "          if (!dataTable) return;\n",
              "\n",
              "          const docLinkHtml = 'Like what you see? Visit the ' +\n",
              "            '<a target=\"_blank\" href=https://colab.research.google.com/notebooks/data_table.ipynb>data table notebook</a>'\n",
              "            + ' to learn more about interactive tables.';\n",
              "          element.innerHTML = '';\n",
              "          dataTable['output_type'] = 'display_data';\n",
              "          await google.colab.output.renderOutput(dataTable, element);\n",
              "          const docLink = document.createElement('div');\n",
              "          docLink.innerHTML = docLinkHtml;\n",
              "          element.appendChild(docLink);\n",
              "        }\n",
              "      </script>\n",
              "    </div>\n",
              "  </div>\n",
              "  "
            ]
          },
          "metadata": {},
          "execution_count": 50
        }
      ]
    },
    {
      "cell_type": "code",
      "source": [
        "node_attr = node_attr[[\"position_type\",\"company_type\",\"hashedid\"]]\n",
        "node_attr.head()"
      ],
      "metadata": {
        "colab": {
          "base_uri": "https://localhost:8080/",
          "height": 206
        },
        "id": "8MH5O3LFwPjR",
        "outputId": "16609954-1625-422b-87d6-c4b791077b69"
      },
      "execution_count": null,
      "outputs": [
        {
          "output_type": "execute_result",
          "data": {
            "text/plain": [
              "             position_type company_type  \\\n",
              "0                 engineer         tech   \n",
              "1  executive_or_management      finance   \n",
              "2          marketing_sales      Unknown   \n",
              "3          marketing_sales      Unknown   \n",
              "4                     misc         misc   \n",
              "\n",
              "                                   hashedid  \n",
              "0  058b92d6c47c4f8e29b302b30a1fff4a21ba9d36  \n",
              "1  e943ba6d3c0eb8589df32a873ab5772c8f77c68f  \n",
              "2  07722a6692fb28485ddaf84979322fb5a78d0926  \n",
              "3  eb319e0714095bc9f9517317e9040f125b8de8d4  \n",
              "4  acddbb2edb475d3a5fd127075dc146eb9ba94e0e  "
            ],
            "text/html": [
              "\n",
              "  <div id=\"df-0b1b4a70-b95a-4832-ac46-6905016c6b4e\">\n",
              "    <div class=\"colab-df-container\">\n",
              "      <div>\n",
              "<style scoped>\n",
              "    .dataframe tbody tr th:only-of-type {\n",
              "        vertical-align: middle;\n",
              "    }\n",
              "\n",
              "    .dataframe tbody tr th {\n",
              "        vertical-align: top;\n",
              "    }\n",
              "\n",
              "    .dataframe thead th {\n",
              "        text-align: right;\n",
              "    }\n",
              "</style>\n",
              "<table border=\"1\" class=\"dataframe\">\n",
              "  <thead>\n",
              "    <tr style=\"text-align: right;\">\n",
              "      <th></th>\n",
              "      <th>position_type</th>\n",
              "      <th>company_type</th>\n",
              "      <th>hashedid</th>\n",
              "    </tr>\n",
              "  </thead>\n",
              "  <tbody>\n",
              "    <tr>\n",
              "      <th>0</th>\n",
              "      <td>engineer</td>\n",
              "      <td>tech</td>\n",
              "      <td>058b92d6c47c4f8e29b302b30a1fff4a21ba9d36</td>\n",
              "    </tr>\n",
              "    <tr>\n",
              "      <th>1</th>\n",
              "      <td>executive_or_management</td>\n",
              "      <td>finance</td>\n",
              "      <td>e943ba6d3c0eb8589df32a873ab5772c8f77c68f</td>\n",
              "    </tr>\n",
              "    <tr>\n",
              "      <th>2</th>\n",
              "      <td>marketing_sales</td>\n",
              "      <td>Unknown</td>\n",
              "      <td>07722a6692fb28485ddaf84979322fb5a78d0926</td>\n",
              "    </tr>\n",
              "    <tr>\n",
              "      <th>3</th>\n",
              "      <td>marketing_sales</td>\n",
              "      <td>Unknown</td>\n",
              "      <td>eb319e0714095bc9f9517317e9040f125b8de8d4</td>\n",
              "    </tr>\n",
              "    <tr>\n",
              "      <th>4</th>\n",
              "      <td>misc</td>\n",
              "      <td>misc</td>\n",
              "      <td>acddbb2edb475d3a5fd127075dc146eb9ba94e0e</td>\n",
              "    </tr>\n",
              "  </tbody>\n",
              "</table>\n",
              "</div>\n",
              "      <button class=\"colab-df-convert\" onclick=\"convertToInteractive('df-0b1b4a70-b95a-4832-ac46-6905016c6b4e')\"\n",
              "              title=\"Convert this dataframe to an interactive table.\"\n",
              "              style=\"display:none;\">\n",
              "        \n",
              "  <svg xmlns=\"http://www.w3.org/2000/svg\" height=\"24px\"viewBox=\"0 0 24 24\"\n",
              "       width=\"24px\">\n",
              "    <path d=\"M0 0h24v24H0V0z\" fill=\"none\"/>\n",
              "    <path d=\"M18.56 5.44l.94 2.06.94-2.06 2.06-.94-2.06-.94-.94-2.06-.94 2.06-2.06.94zm-11 1L8.5 8.5l.94-2.06 2.06-.94-2.06-.94L8.5 2.5l-.94 2.06-2.06.94zm10 10l.94 2.06.94-2.06 2.06-.94-2.06-.94-.94-2.06-.94 2.06-2.06.94z\"/><path d=\"M17.41 7.96l-1.37-1.37c-.4-.4-.92-.59-1.43-.59-.52 0-1.04.2-1.43.59L10.3 9.45l-7.72 7.72c-.78.78-.78 2.05 0 2.83L4 21.41c.39.39.9.59 1.41.59.51 0 1.02-.2 1.41-.59l7.78-7.78 2.81-2.81c.8-.78.8-2.07 0-2.86zM5.41 20L4 18.59l7.72-7.72 1.47 1.35L5.41 20z\"/>\n",
              "  </svg>\n",
              "      </button>\n",
              "      \n",
              "  <style>\n",
              "    .colab-df-container {\n",
              "      display:flex;\n",
              "      flex-wrap:wrap;\n",
              "      gap: 12px;\n",
              "    }\n",
              "\n",
              "    .colab-df-convert {\n",
              "      background-color: #E8F0FE;\n",
              "      border: none;\n",
              "      border-radius: 50%;\n",
              "      cursor: pointer;\n",
              "      display: none;\n",
              "      fill: #1967D2;\n",
              "      height: 32px;\n",
              "      padding: 0 0 0 0;\n",
              "      width: 32px;\n",
              "    }\n",
              "\n",
              "    .colab-df-convert:hover {\n",
              "      background-color: #E2EBFA;\n",
              "      box-shadow: 0px 1px 2px rgba(60, 64, 67, 0.3), 0px 1px 3px 1px rgba(60, 64, 67, 0.15);\n",
              "      fill: #174EA6;\n",
              "    }\n",
              "\n",
              "    [theme=dark] .colab-df-convert {\n",
              "      background-color: #3B4455;\n",
              "      fill: #D2E3FC;\n",
              "    }\n",
              "\n",
              "    [theme=dark] .colab-df-convert:hover {\n",
              "      background-color: #434B5C;\n",
              "      box-shadow: 0px 1px 3px 1px rgba(0, 0, 0, 0.15);\n",
              "      filter: drop-shadow(0px 1px 2px rgba(0, 0, 0, 0.3));\n",
              "      fill: #FFFFFF;\n",
              "    }\n",
              "  </style>\n",
              "\n",
              "      <script>\n",
              "        const buttonEl =\n",
              "          document.querySelector('#df-0b1b4a70-b95a-4832-ac46-6905016c6b4e button.colab-df-convert');\n",
              "        buttonEl.style.display =\n",
              "          google.colab.kernel.accessAllowed ? 'block' : 'none';\n",
              "\n",
              "        async function convertToInteractive(key) {\n",
              "          const element = document.querySelector('#df-0b1b4a70-b95a-4832-ac46-6905016c6b4e');\n",
              "          const dataTable =\n",
              "            await google.colab.kernel.invokeFunction('convertToInteractive',\n",
              "                                                     [key], {});\n",
              "          if (!dataTable) return;\n",
              "\n",
              "          const docLinkHtml = 'Like what you see? Visit the ' +\n",
              "            '<a target=\"_blank\" href=https://colab.research.google.com/notebooks/data_table.ipynb>data table notebook</a>'\n",
              "            + ' to learn more about interactive tables.';\n",
              "          element.innerHTML = '';\n",
              "          dataTable['output_type'] = 'display_data';\n",
              "          await google.colab.output.renderOutput(dataTable, element);\n",
              "          const docLink = document.createElement('div');\n",
              "          docLink.innerHTML = docLinkHtml;\n",
              "          element.appendChild(docLink);\n",
              "        }\n",
              "      </script>\n",
              "    </div>\n",
              "  </div>\n",
              "  "
            ]
          },
          "metadata": {},
          "execution_count": 51
        }
      ]
    },
    {
      "cell_type": "code",
      "source": [
        "node_attr.loc[(node_attr.position_type.isna()) | (node_attr.company_type.isna())]"
      ],
      "metadata": {
        "colab": {
          "base_uri": "https://localhost:8080/",
          "height": 49
        },
        "id": "MVFBw8cdQAYw",
        "outputId": "9da6640c-4bf0-4298-92fa-202ad1f8f398"
      },
      "execution_count": null,
      "outputs": [
        {
          "output_type": "execute_result",
          "data": {
            "text/plain": [
              "Empty DataFrame\n",
              "Columns: [position_type, company_type, hashedid]\n",
              "Index: []"
            ],
            "text/html": [
              "\n",
              "  <div id=\"df-ec8600ab-460d-42a0-813d-cb1f51c11cf0\">\n",
              "    <div class=\"colab-df-container\">\n",
              "      <div>\n",
              "<style scoped>\n",
              "    .dataframe tbody tr th:only-of-type {\n",
              "        vertical-align: middle;\n",
              "    }\n",
              "\n",
              "    .dataframe tbody tr th {\n",
              "        vertical-align: top;\n",
              "    }\n",
              "\n",
              "    .dataframe thead th {\n",
              "        text-align: right;\n",
              "    }\n",
              "</style>\n",
              "<table border=\"1\" class=\"dataframe\">\n",
              "  <thead>\n",
              "    <tr style=\"text-align: right;\">\n",
              "      <th></th>\n",
              "      <th>position_type</th>\n",
              "      <th>company_type</th>\n",
              "      <th>hashedid</th>\n",
              "    </tr>\n",
              "  </thead>\n",
              "  <tbody>\n",
              "  </tbody>\n",
              "</table>\n",
              "</div>\n",
              "      <button class=\"colab-df-convert\" onclick=\"convertToInteractive('df-ec8600ab-460d-42a0-813d-cb1f51c11cf0')\"\n",
              "              title=\"Convert this dataframe to an interactive table.\"\n",
              "              style=\"display:none;\">\n",
              "        \n",
              "  <svg xmlns=\"http://www.w3.org/2000/svg\" height=\"24px\"viewBox=\"0 0 24 24\"\n",
              "       width=\"24px\">\n",
              "    <path d=\"M0 0h24v24H0V0z\" fill=\"none\"/>\n",
              "    <path d=\"M18.56 5.44l.94 2.06.94-2.06 2.06-.94-2.06-.94-.94-2.06-.94 2.06-2.06.94zm-11 1L8.5 8.5l.94-2.06 2.06-.94-2.06-.94L8.5 2.5l-.94 2.06-2.06.94zm10 10l.94 2.06.94-2.06 2.06-.94-2.06-.94-.94-2.06-.94 2.06-2.06.94z\"/><path d=\"M17.41 7.96l-1.37-1.37c-.4-.4-.92-.59-1.43-.59-.52 0-1.04.2-1.43.59L10.3 9.45l-7.72 7.72c-.78.78-.78 2.05 0 2.83L4 21.41c.39.39.9.59 1.41.59.51 0 1.02-.2 1.41-.59l7.78-7.78 2.81-2.81c.8-.78.8-2.07 0-2.86zM5.41 20L4 18.59l7.72-7.72 1.47 1.35L5.41 20z\"/>\n",
              "  </svg>\n",
              "      </button>\n",
              "      \n",
              "  <style>\n",
              "    .colab-df-container {\n",
              "      display:flex;\n",
              "      flex-wrap:wrap;\n",
              "      gap: 12px;\n",
              "    }\n",
              "\n",
              "    .colab-df-convert {\n",
              "      background-color: #E8F0FE;\n",
              "      border: none;\n",
              "      border-radius: 50%;\n",
              "      cursor: pointer;\n",
              "      display: none;\n",
              "      fill: #1967D2;\n",
              "      height: 32px;\n",
              "      padding: 0 0 0 0;\n",
              "      width: 32px;\n",
              "    }\n",
              "\n",
              "    .colab-df-convert:hover {\n",
              "      background-color: #E2EBFA;\n",
              "      box-shadow: 0px 1px 2px rgba(60, 64, 67, 0.3), 0px 1px 3px 1px rgba(60, 64, 67, 0.15);\n",
              "      fill: #174EA6;\n",
              "    }\n",
              "\n",
              "    [theme=dark] .colab-df-convert {\n",
              "      background-color: #3B4455;\n",
              "      fill: #D2E3FC;\n",
              "    }\n",
              "\n",
              "    [theme=dark] .colab-df-convert:hover {\n",
              "      background-color: #434B5C;\n",
              "      box-shadow: 0px 1px 3px 1px rgba(0, 0, 0, 0.15);\n",
              "      filter: drop-shadow(0px 1px 2px rgba(0, 0, 0, 0.3));\n",
              "      fill: #FFFFFF;\n",
              "    }\n",
              "  </style>\n",
              "\n",
              "      <script>\n",
              "        const buttonEl =\n",
              "          document.querySelector('#df-ec8600ab-460d-42a0-813d-cb1f51c11cf0 button.colab-df-convert');\n",
              "        buttonEl.style.display =\n",
              "          google.colab.kernel.accessAllowed ? 'block' : 'none';\n",
              "\n",
              "        async function convertToInteractive(key) {\n",
              "          const element = document.querySelector('#df-ec8600ab-460d-42a0-813d-cb1f51c11cf0');\n",
              "          const dataTable =\n",
              "            await google.colab.kernel.invokeFunction('convertToInteractive',\n",
              "                                                     [key], {});\n",
              "          if (!dataTable) return;\n",
              "\n",
              "          const docLinkHtml = 'Like what you see? Visit the ' +\n",
              "            '<a target=\"_blank\" href=https://colab.research.google.com/notebooks/data_table.ipynb>data table notebook</a>'\n",
              "            + ' to learn more about interactive tables.';\n",
              "          element.innerHTML = '';\n",
              "          dataTable['output_type'] = 'display_data';\n",
              "          await google.colab.output.renderOutput(dataTable, element);\n",
              "          const docLink = document.createElement('div');\n",
              "          docLink.innerHTML = docLinkHtml;\n",
              "          element.appendChild(docLink);\n",
              "        }\n",
              "      </script>\n",
              "    </div>\n",
              "  </div>\n",
              "  "
            ]
          },
          "metadata": {},
          "execution_count": 52
        }
      ]
    },
    {
      "cell_type": "code",
      "source": [
        "node_attr.set_index('hashedid', inplace=True)"
      ],
      "metadata": {
        "id": "xnUjnqZUwZrx"
      },
      "execution_count": null,
      "outputs": []
    },
    {
      "cell_type": "code",
      "source": [
        "node_list = create_adjacency_list(json_data)\n",
        "print(len(node_attr), len(node_list))\n",
        "node_attr = node_attr[node_attr.index.isin(node_list)]\n",
        "print(len(node_attr))\n",
        "node_attributes = node_attr.to_dict(orient='index')"
      ],
      "metadata": {
        "colab": {
          "base_uri": "https://localhost:8080/"
        },
        "id": "RgulNZB6SdL_",
        "outputId": "8b35a675-c642-41d8-8dae-e3acc7871636"
      },
      "execution_count": 139,
      "outputs": [
        {
          "output_type": "stream",
          "name": "stdout",
          "text": [
            "1931 1853\n",
            "1853\n"
          ]
        }
      ]
    },
    {
      "cell_type": "code",
      "source": [
        "nodes_with_no_attributes = node_list - set(node_attr.index)\n",
        "nodes_with_no_attributes"
      ],
      "metadata": {
        "colab": {
          "base_uri": "https://localhost:8080/"
        },
        "id": "E62QjzL8USmE",
        "outputId": "b3cf9b1f-10ef-4b3b-c177-1c0a6180a005"
      },
      "execution_count": null,
      "outputs": [
        {
          "output_type": "execute_result",
          "data": {
            "text/plain": [
              "{'549eddd71c0015ad4e1e8d7ee5084316bf8311c2',\n",
              " 'c0470c980335579cfbe767451a1979a52b9e9c66'}"
            ]
          },
          "metadata": {},
          "execution_count": 56
        }
      ]
    },
    {
      "cell_type": "code",
      "source": [
        "#Updating function to ignore nodes with no attributes\n",
        "def create_adjacency_list(data_dict, suffix=''):\n",
        "    node_list = set()\n",
        "    for source_node in list(data_dict.keys()):\n",
        "        if source_node not in nodes_with_no_attributes:\n",
        "            node_list.add(source_node)\n",
        "\n",
        "    for x in data_dict[source_node]:\n",
        "        if x not in nodes_with_no_attributes:\n",
        "            node_list.add(x)\n",
        "            if x not in data_dict.keys():\n",
        "                data_dict[x] = [source_node]\n",
        "            else:\n",
        "                if source_node not in data_dict[x]:\n",
        "                    data_dict[x].append(source_node)\n",
        "        else:\n",
        "            data_dict.pop(source_node)\n",
        "    g= open(\"adjacency_list_{}.txt\".format(suffix),\"w+\")\n",
        "    for source_node in list(data_dict.keys()):\n",
        "        if source_node not in nodes_with_no_attributes:\n",
        "            dt = ' '.join(data_dict[source_node])\n",
        "            g.write(\"{} {} \\n\".format(source_node, dt))\n",
        "    g.close\n",
        "    return node_list"
      ],
      "metadata": {
        "id": "8oCojDd9VPlk"
      },
      "execution_count": null,
      "outputs": []
    },
    {
      "cell_type": "code",
      "source": [
        "node_list = create_adjacency_list(json_data)\n",
        "len(node_list)"
      ],
      "metadata": {
        "colab": {
          "base_uri": "https://localhost:8080/"
        },
        "id": "JcbJnOorVg-4",
        "outputId": "48e5c877-68d9-42e6-bbb1-e019787aa0d2"
      },
      "execution_count": null,
      "outputs": [
        {
          "output_type": "execute_result",
          "data": {
            "text/plain": [
              "1931"
            ]
          },
          "metadata": {},
          "execution_count": 59
        }
      ]
    },
    {
      "cell_type": "code",
      "source": [
        "#Setting node attributes\n",
        "social_graph = nx.read_adjlist('adjacency_list_.txt')\n",
        "nx.set_node_attributes(social_graph, node_attributes)\n",
        "print(social_graph.number_of_nodes(), social_graph.number_of_edges())"
      ],
      "metadata": {
        "colab": {
          "base_uri": "https://localhost:8080/"
        },
        "id": "0oR608uPwmGZ",
        "outputId": "550dbbcb-e90d-476d-9255-9519d770b02d"
      },
      "execution_count": null,
      "outputs": [
        {
          "output_type": "stream",
          "name": "stdout",
          "text": [
            "1931 12239\n"
          ]
        }
      ]
    },
    {
      "cell_type": "code",
      "source": [
        "len([c for c in nx.connected_components(social_graph)])"
      ],
      "metadata": {
        "colab": {
          "base_uri": "https://localhost:8080/"
        },
        "id": "HjmVWF5Uxwan",
        "outputId": "7f18b9bd-09e1-4499-d4d7-f056d4d4d058"
      },
      "execution_count": null,
      "outputs": [
        {
          "output_type": "execute_result",
          "data": {
            "text/plain": [
              "217"
            ]
          },
          "metadata": {},
          "execution_count": 62
        }
      ]
    },
    {
      "cell_type": "code",
      "source": [
        "import matplotlib.pyplot as plt\n",
        "\n",
        "## Modified from NetworkX documentation.\n",
        "fig = plt.figure(\"Degree of a random graph\", figsize=(8, 8))\n",
        "# Create a gridspec for adding subplots of different sizes\n",
        "axgrid = fig.add_gridspec(5, 4)\n",
        "ax0 = fig.add_subplot(axgrid[0:3, :])\n",
        "# ‘Gcc’ stands for ‘graph connected component’\n",
        "Gcc = social_graph.subgraph(sorted(nx.connected_components(social_graph), key=len,\n",
        "reverse=True)[0])\n",
        "pos = nx.spring_layout(Gcc, seed=10396953)\n",
        "nx.draw_networkx_nodes(Gcc, pos, ax=ax0, node_size=20)\n",
        "nx.draw_networkx_edges(Gcc, pos, ax=ax0, alpha=0.4)\n",
        "ax0.set_title(\"Connected component of Social Graph\")\n",
        "ax0.set_axis_off()\n",
        "degree_sequence = sorted([d for n, d in social_graph.degree()], reverse=True)\n",
        "ax1 = fig.add_subplot(axgrid[3:, :2])\n",
        "ax1.plot(degree_sequence, \"b-\", marker=\"o\")\n",
        "ax1.set_title(\"Degree Rank Plot\")\n",
        "ax1.set_ylabel(\"Degree\")\n",
        "ax1.set_xlabel(\"Rank\")\n",
        "ax2 = fig.add_subplot(axgrid[3:, 2:])\n",
        "ax2.bar(*np.unique(degree_sequence, return_counts=True))\n",
        "ax2.set_title(\"Degree histogram\")\n",
        "ax2.set_xlabel(\"Degree\")\n",
        "ax2.set_ylabel(\"# of Nodes\")\n",
        "fig.tight_layout()\n",
        "plt.show()"
      ],
      "metadata": {
        "colab": {
          "base_uri": "https://localhost:8080/",
          "height": 585
        },
        "id": "2uG56s0wzTKs",
        "outputId": "bd0d8bc3-6e90-432e-9585-5c560e7d3ed0"
      },
      "execution_count": null,
      "outputs": [
        {
          "output_type": "display_data",
          "data": {
            "text/plain": [
              "<Figure size 576x576 with 3 Axes>"
            ],
            "image/png": "[encoded data removed]"
          },
          "metadata": {
            "needs_background": "light"
          }
        }
      ]
    },
    {
      "cell_type": "code",
      "source": [
        "#Adjacency matrix of our graph\n",
        "plt.imshow(nx.to_numpy_array(social_graph), aspect='equal',cmap='Blues')\n",
        "plt.show()"
      ],
      "metadata": {
        "colab": {
          "base_uri": "https://localhost:8080/",
          "height": 269
        },
        "id": "bpYZ2WFC0Q9S",
        "outputId": "1b66e16b-33b1-411d-c57d-e3483a6bfe78"
      },
      "execution_count": null,
      "outputs": [
        {
          "output_type": "display_data",
          "data": {
            "text/plain": [
              "<Figure size 432x288 with 1 Axes>"
            ],
            "image/png": "[encoded data removed]"
          },
          "metadata": {
            "needs_background": "light"
          }
        }
      ]
    },
    {
      "cell_type": "markdown",
      "source": [
        "## Importing our graph object into Pytorch Geometric (PyG)\n",
        "\n",
        "### 1. Using import from NetworkX"
      ],
      "metadata": {
        "id": "LzHmh-s1PDZK"
      }
    },
    {
      "cell_type": "code",
      "source": [
        "!pip install torch_geometric"
      ],
      "metadata": {
        "colab": {
          "base_uri": "https://localhost:8080/"
        },
        "id": "D-ZSP-7wPVRK",
        "outputId": "a3bd30a3-e691-4c74-f12c-d1952dbb70ef"
      },
      "execution_count": null,
      "outputs": [
        {
          "output_type": "stream",
          "name": "stdout",
          "text": [
            "Looking in indexes: https://pypi.org/simple, https://us-python.pkg.dev/colab-wheels/public/simple/\n",
            "Collecting torch_geometric\n",
            "  Downloading torch_geometric-2.3.0.tar.gz (616 kB)\n",
            "\u001b[2K     \u001b[90m━━━━━━━━━━━━━━━━━━━━━━━━━━━━━━━━━━━━━━\u001b[0m \u001b[32m616.2/616.2 KB\u001b[0m \u001b[31m13.0 MB/s\u001b[0m eta \u001b[36m0:00:00\u001b[0m\n",
            "\u001b[?25h  Installing build dependencies ... \u001b[?25l\u001b[?25hdone\n",
            "  Getting requirements to build wheel ... \u001b[?25l\u001b[?25hdone\n",
            "  Preparing metadata (pyproject.toml) ... \u001b[?25l\u001b[?25hdone\n",
            "Requirement already satisfied: scipy in /usr/local/lib/python3.9/dist-packages (from torch_geometric) (1.10.1)\n",
            "Requirement already satisfied: numpy in /usr/local/lib/python3.9/dist-packages (from torch_geometric) (1.22.4)\n",
            "Requirement already satisfied: psutil>=5.8.0 in /usr/local/lib/python3.9/dist-packages (from torch_geometric) (5.9.4)\n",
            "Requirement already satisfied: jinja2 in /usr/local/lib/python3.9/dist-packages (from torch_geometric) (3.1.2)\n",
            "Requirement already satisfied: requests in /usr/local/lib/python3.9/dist-packages (from torch_geometric) (2.27.1)\n",
            "Requirement already satisfied: scikit-learn in /usr/local/lib/python3.9/dist-packages (from torch_geometric) (1.2.2)\n",
            "Requirement already satisfied: tqdm in /usr/local/lib/python3.9/dist-packages (from torch_geometric) (4.65.0)\n",
            "Requirement already satisfied: pyparsing in /usr/local/lib/python3.9/dist-packages (from torch_geometric) (3.0.9)\n",
            "Requirement already satisfied: MarkupSafe>=2.0 in /usr/local/lib/python3.9/dist-packages (from jinja2->torch_geometric) (2.1.2)\n",
            "Requirement already satisfied: idna<4,>=2.5 in /usr/local/lib/python3.9/dist-packages (from requests->torch_geometric) (3.4)\n",
            "Requirement already satisfied: charset-normalizer~=2.0.0 in /usr/local/lib/python3.9/dist-packages (from requests->torch_geometric) (2.0.12)\n",
            "Requirement already satisfied: urllib3<1.27,>=1.21.1 in /usr/local/lib/python3.9/dist-packages (from requests->torch_geometric) (1.26.15)\n",
            "Requirement already satisfied: certifi>=2017.4.17 in /usr/local/lib/python3.9/dist-packages (from requests->torch_geometric) (2022.12.7)\n",
            "Requirement already satisfied: threadpoolctl>=2.0.0 in /usr/local/lib/python3.9/dist-packages (from scikit-learn->torch_geometric) (3.1.0)\n",
            "Requirement already satisfied: joblib>=1.1.1 in /usr/local/lib/python3.9/dist-packages (from scikit-learn->torch_geometric) (1.1.1)\n",
            "Building wheels for collected packages: torch_geometric\n",
            "  Building wheel for torch_geometric (pyproject.toml) ... \u001b[?25l\u001b[?25hdone\n",
            "  Created wheel for torch_geometric: filename=torch_geometric-2.3.0-py3-none-any.whl size=909897 sha256=a1e5a8c3906fe164621d531f5fb69f86dc3f2456d38ceaa97f3bbe1b67dab89b\n",
            "  Stored in directory: /root/.cache/pip/wheels/cd/7d/6b/17150450b80b4a3656a84330e22709ccd8dc0f8f4773ba4133\n",
            "Successfully built torch_geometric\n",
            "Installing collected packages: torch_geometric\n",
            "Successfully installed torch_geometric-2.3.0\n"
          ]
        }
      ]
    },
    {
      "cell_type": "code",
      "source": [
        "import torch\n",
        "from torch_geometric.data import Data\n",
        "from torch_geometric.data import InMemoryDataset\n",
        "from torch_geometric import utils"
      ],
      "metadata": {
        "id": "8kUkbJyk090c"
      },
      "execution_count": null,
      "outputs": []
    },
    {
      "cell_type": "code",
      "source": [
        "data = utils.from_networkx(social_graph)\n",
        "data"
      ],
      "metadata": {
        "colab": {
          "base_uri": "https://localhost:8080/"
        },
        "id": "29sn8zT-PSUF",
        "outputId": "e75d25cb-c76b-49d3-d0f5-cf907c7c8a11"
      },
      "execution_count": null,
      "outputs": [
        {
          "output_type": "execute_result",
          "data": {
            "text/plain": [
              "Data(edge_index=[2, 24478], position_type=[1931], company_type=[1931], num_nodes=1931)"
            ]
          },
          "metadata": {},
          "execution_count": 67
        }
      ]
    },
    {
      "cell_type": "markdown",
      "source": [
        "### 2. Importing from raw files "
      ],
      "metadata": {
        "id": "gKbxcWBJpjC4"
      }
    },
    {
      "cell_type": "code",
      "source": [
        "#Modifying the create_edge_list function to exclude nodes without attributes\n",
        "def create_edge_list2(data_dict, suffix=''):\n",
        "    n=0\n",
        "    list_of_edges = set()\n",
        "    list_of_nodes = set()\n",
        "    g= open(\"edge_list_{}.txt\".format(suffix), \"w+\")\n",
        "    for source_node in list(data_dict.keys()):\n",
        "        if source_node not in nodes_with_no_attributes:\n",
        "            list_of_nodes.add(source_node)\n",
        "            connections = data_dict[source_node]\n",
        "\n",
        "            for destination_node in connections:\n",
        "                if destination_node not in nodes_with_no_attributes:\n",
        "                    list_of_nodes.add(destination_node)\n",
        "                    if (source_node, destination_node) not in list_of_edges:\n",
        "                        n+=1\n",
        "                        g.write(\"{} {} \\n\".format(source_node, destination_node))\n",
        "                        list_of_edges.add((source_node, destination_node))\n",
        "    g.close\n",
        "    return list_of_edges, list_of_nodes\n",
        "edges, nodes = create_edge_list2(json_data)\n",
        "len(nodes)"
      ],
      "metadata": {
        "colab": {
          "base_uri": "https://localhost:8080/"
        },
        "id": "9KTI6yyfPjPJ",
        "outputId": "4f7005c8-ed13-4973-fc3a-5a39c0d24210"
      },
      "execution_count": null,
      "outputs": [
        {
          "output_type": "execute_result",
          "data": {
            "text/plain": [
              "1931"
            ]
          },
          "metadata": {},
          "execution_count": 125
        }
      ]
    },
    {
      "cell_type": "code",
      "source": [
        "social_graph = nx.read_edgelist('edge_list_.txt')\n",
        "\n",
        "list_of_nodes = list(set(list(social_graph)))\n",
        "indices_of_nodes = [list_of_nodes.index(x) for x in list_of_nodes]\n",
        "node_to_index = dict(zip(list_of_nodes, indices_of_nodes))\n",
        "index_to_node = dict(zip(indices_of_nodes, list_of_nodes))\n",
        "\n",
        "list_edges = nx.convert.to_edgelist(social_graph)\n",
        "list_edges = list(list_edges)\n",
        "\n",
        "named_edge_list_0 = [x[0] for x in list_edges]\n",
        "named_edge_list_1 = [x[1] for x in list_edges]\n",
        "\n",
        "indexed_edge_list_0 = [node_to_index[x] for x in named_edge_list_0]\n",
        "indexed_edge_list_1 = [node_to_index[x] for x in named_edge_list_1]\n",
        "\n",
        "x = torch.FloatTensor([[1] for x in range(len(list_of_nodes))])\n",
        "y = torch.FloatTensor([1]*974 + [0]*973)\n",
        "y = y.long()\n",
        "\n",
        "edge_index = torch.tensor([indexed_edge_list_0, indexed_edge_list_1])\n",
        "\n",
        "train_mask = torch.zeros(len(list_of_nodes), dtype=torch.uint8)\n",
        "train_mask[:int(0.8 * len(list_of_nodes))] = 1 #train only on the 80% nodes\n",
        "test_mask = torch.zeros(len(list_of_nodes), dtype=torch.uint8) #test on 20 % nodes\n",
        "test_mask[- int(0.2 * len(list_of_nodes)):] = 1\n",
        "\n",
        "train_mask = train_mask.bool()\n",
        "test_mask = test_mask.bool()\n",
        "\n",
        "data = Data(x=x, y=y, edge_index=edge_index, train_mask=train_mask, test_mask=test_mask)"
      ],
      "metadata": {
        "id": "PquUAdHmqUWf"
      },
      "execution_count": null,
      "outputs": []
    },
    {
      "cell_type": "markdown",
      "source": [
        "## 3. Creating Pyg Dataset from custom class"
      ],
      "metadata": {
        "id": "sjZWFyqMtlLn"
      }
    },
    {
      "cell_type": "code",
      "source": [
        "class MyOwnDataset(InMemoryDataset):\n",
        "    def __init__(self, root, transform=None, pre_transform=None): #A\n",
        "        super(MyOwnDataset, self).__init__(root, transform, pre_transform)\n",
        "        self.data, self.slices = torch.load(self.processed_paths[0])\n",
        "\n",
        "        @property\n",
        "        def raw_file_names(self): #B\n",
        "            return []\n",
        "\n",
        "        @property\n",
        "        def processed_file_names(self): #C\n",
        "            return ['../test.dataset']\n",
        "\n",
        "        def download(self): #D\n",
        "            # Download to `self.raw_dir`.\n",
        "            pass\n",
        "\n",
        "        def process(self): #E\n",
        "            # Read data into `Data` list.\n",
        "            data_list = []\n",
        "            eg = nx.read_edgelist('edge_list_.txt')\n",
        "\n",
        "            list_of_nodes = list(set(list(eg)))\n",
        "            indices_of_nodes = [list_of_nodes.index(x) for x in list_of_nodes]\n",
        "            node_to_index = dict(zip(list_of_nodes, indices_of_nodes))\n",
        "            index_to_node = dict(zip(indices_of_nodes, list_of_nodes))\n",
        "            list_edges = nx.convert.to_edgelist(eg)\n",
        "            list_edges = list(list_edges)\n",
        "\n",
        "            named_edge_list_0 = [x[0] for x in list_edges]\n",
        "            named_edge_list_1 = [x[1] for x in list_edges]\n",
        "            indexed_edge_list_0 = [node_to_index[x] for x in named_edge_list_0]\n",
        "            indexed_edge_list_1 = [node_to_index[x] for x in named_edge_list_1]\n",
        "\n",
        "            x = torch.FloatTensor([[1] for x in range(len(list_of_nodes))])\n",
        "            y = torch.FloatTensor([1]*974 + [0]*973)\n",
        "            y = y.long()\n",
        "\n",
        "            edge_index = torch.tensor([indexed_edge_list_0, indexed_edge_list_1])\n",
        "\n",
        "            train_mask = torch.zeros(len(list_of_nodes), dtype=torch.uint8)\n",
        "            train_mask[:int(0.8 * len(list_of_nodes))] = 1 #train only on the 80% nodes\n",
        "            test_mask = torch.zeros(len(list_of_nodes), dtype=torch.uint8) #test on 20 % nodes\n",
        "            test_mask[- int(0.2 * len(list_of_nodes)):] = 1\n",
        "            train_mask = train_mask.bool()\n",
        "            test_mask = test_mask.bool()\n",
        "\n",
        "            data_example = Data(x=x, y=y, edge_index=edge_index, train_mask=train_mask,\n",
        "            test_mask=test_mask)\n",
        "            data_list.append(data_example)\n",
        "            data, slices = self.collate(data_list)\n",
        "\n",
        "            torch.save((data, slices), self.processed_paths[0])"
      ],
      "metadata": {
        "id": "Nrr0OvVHxIJc"
      },
      "execution_count": 136,
      "outputs": []
    },
    {
      "cell_type": "code",
      "source": [],
      "metadata": {
        "id": "txle5dlIvJuO"
      },
      "execution_count": null,
      "outputs": []
    }
  ]
}